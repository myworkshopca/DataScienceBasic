{
  "nbformat": 4,
  "nbformat_minor": 0,
  "metadata": {
    "colab": {
      "provenance": [],
      "authorship_tag": "ABX9TyOQ3vu+z51w7QNlQyeGW/SZ",
      "include_colab_link": true
    },
    "kernelspec": {
      "name": "python3",
      "display_name": "Python 3"
    },
    "language_info": {
      "name": "python"
    }
  },
  "cells": [
    {
      "cell_type": "markdown",
      "metadata": {
        "id": "view-in-github",
        "colab_type": "text"
      },
      "source": [
        "<a href=\"https://colab.research.google.com/github/myworkshopca/DataScienceBasic/blob/main/colab/testing.ipynb\" target=\"_parent\"><img src=\"https://colab.research.google.com/assets/colab-badge.svg\" alt=\"Open In Colab\"/></a>"
      ]
    },
    {
      "cell_type": "markdown",
      "source": [
        "First try Python code"
      ],
      "metadata": {
        "id": "OgWI_bxUwDxv"
      }
    },
    {
      "cell_type": "code",
      "source": [
        "a = 1\n",
        "b = 2\n",
        "c = a + b\n",
        "print(c)"
      ],
      "metadata": {
        "colab": {
          "base_uri": "https://localhost:8080/"
        },
        "id": "jN-7N5HowNJH",
        "outputId": "e2f9a0d6-d8a0-4e5f-82e3-4c42a5e8043f"
      },
      "execution_count": null,
      "outputs": [
        {
          "output_type": "stream",
          "name": "stdout",
          "text": [
            "3\n"
          ]
        }
      ]
    },
    {
      "cell_type": "markdown",
      "source": [
        "Try some basic python language"
      ],
      "metadata": {
        "id": "NEkWPITfw5ds"
      }
    },
    {
      "cell_type": "code",
      "source": [],
      "metadata": {
        "id": "upOIvoKzw81K"
      },
      "execution_count": null,
      "outputs": []
    }
  ]
}